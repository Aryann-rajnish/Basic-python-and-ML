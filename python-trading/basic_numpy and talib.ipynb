{
 "cells": [
  {
   "cell_type": "code",
   "execution_count": 1,
   "metadata": {},
   "outputs": [],
   "source": [
    "import pandas as pd\n",
    "import numpy as np"
   ]
  },
  {
   "cell_type": "code",
   "execution_count": 2,
   "metadata": {},
   "outputs": [],
   "source": [
    "data = pd.read_csv(\"data5.csv\",index_col=0)"
   ]
  },
  {
   "cell_type": "code",
   "execution_count": 3,
   "metadata": {},
   "outputs": [
    {
     "data": {
      "text/html": [
       "<div>\n",
       "<table border=\"1\" class=\"dataframe\">\n",
       "  <thead>\n",
       "    <tr style=\"text-align: right;\">\n",
       "      <th></th>\n",
       "      <th>open</th>\n",
       "      <th>high</th>\n",
       "      <th>low</th>\n",
       "      <th>close</th>\n",
       "    </tr>\n",
       "    <tr>\n",
       "      <th>Date_Time</th>\n",
       "      <th></th>\n",
       "      <th></th>\n",
       "      <th></th>\n",
       "      <th></th>\n",
       "    </tr>\n",
       "  </thead>\n",
       "  <tbody>\n",
       "    <tr>\n",
       "      <th>2012-05-30 09:15:00</th>\n",
       "      <td>9599.9004</td>\n",
       "      <td>9599.9004</td>\n",
       "      <td>9555.1504</td>\n",
       "      <td>9558.3496</td>\n",
       "    </tr>\n",
       "    <tr>\n",
       "      <th>2012-05-30 09:20:00</th>\n",
       "      <td>9555.0000</td>\n",
       "      <td>9558.3496</td>\n",
       "      <td>9531.0000</td>\n",
       "      <td>9541.0000</td>\n",
       "    </tr>\n",
       "    <tr>\n",
       "      <th>2012-05-30 09:25:00</th>\n",
       "      <td>9542.0000</td>\n",
       "      <td>9545.0000</td>\n",
       "      <td>9532.3496</td>\n",
       "      <td>9539.0498</td>\n",
       "    </tr>\n",
       "    <tr>\n",
       "      <th>2012-05-30 09:30:00</th>\n",
       "      <td>9540.0000</td>\n",
       "      <td>9542.0000</td>\n",
       "      <td>9522.4004</td>\n",
       "      <td>9522.5000</td>\n",
       "    </tr>\n",
       "    <tr>\n",
       "      <th>2012-05-30 09:35:00</th>\n",
       "      <td>9522.0000</td>\n",
       "      <td>9522.0000</td>\n",
       "      <td>9503.0996</td>\n",
       "      <td>9514.9502</td>\n",
       "    </tr>\n",
       "  </tbody>\n",
       "</table>\n",
       "</div>"
      ],
      "text/plain": [
       "                          open       high        low      close\n",
       "Date_Time                                                      \n",
       "2012-05-30 09:15:00  9599.9004  9599.9004  9555.1504  9558.3496\n",
       "2012-05-30 09:20:00  9555.0000  9558.3496  9531.0000  9541.0000\n",
       "2012-05-30 09:25:00  9542.0000  9545.0000  9532.3496  9539.0498\n",
       "2012-05-30 09:30:00  9540.0000  9542.0000  9522.4004  9522.5000\n",
       "2012-05-30 09:35:00  9522.0000  9522.0000  9503.0996  9514.9502"
      ]
     },
     "execution_count": 3,
     "metadata": {},
     "output_type": "execute_result"
    }
   ],
   "source": [
    "data.head()"
   ]
  },
  {
   "cell_type": "code",
   "execution_count": 5,
   "metadata": {},
   "outputs": [],
   "source": [
    "data1 = data['close']"
   ]
  },
  {
   "cell_type": "code",
   "execution_count": 7,
   "metadata": {},
   "outputs": [
    {
     "data": {
      "text/plain": [
       "pandas.core.series.Series"
      ]
     },
     "execution_count": 7,
     "metadata": {},
     "output_type": "execute_result"
    }
   ],
   "source": [
    "type(data1)"
   ]
  },
  {
   "cell_type": "code",
   "execution_count": 8,
   "metadata": {},
   "outputs": [],
   "source": [
    "values = data1[-2:]"
   ]
  },
  {
   "cell_type": "code",
   "execution_count": 9,
   "metadata": {},
   "outputs": [
    {
     "name": "stdout",
     "output_type": "stream",
     "text": [
      "Date_Time\n",
      "2016-12-09 15:20:00    18726.8496\n",
      "2016-12-09 15:25:00    18720.0000\n",
      "Name: close, dtype: float64\n"
     ]
    }
   ],
   "source": [
    "print(values)"
   ]
  },
  {
   "cell_type": "code",
   "execution_count": 10,
   "metadata": {},
   "outputs": [],
   "source": [
    "ret = np.array([float(value) for value in values])"
   ]
  },
  {
   "cell_type": "code",
   "execution_count": 11,
   "metadata": {},
   "outputs": [
    {
     "data": {
      "text/plain": [
       "array([18726.8496, 18720.    ])"
      ]
     },
     "execution_count": 11,
     "metadata": {},
     "output_type": "execute_result"
    }
   ],
   "source": [
    "ret"
   ]
  },
  {
   "cell_type": "code",
   "execution_count": 12,
   "metadata": {},
   "outputs": [
    {
     "data": {
      "text/plain": [
       "numpy.ndarray"
      ]
     },
     "execution_count": 12,
     "metadata": {},
     "output_type": "execute_result"
    }
   ],
   "source": [
    "type(ret)"
   ]
  },
  {
   "cell_type": "code",
   "execution_count": 13,
   "metadata": {},
   "outputs": [
    {
     "data": {
      "text/plain": [
       "(2,)"
      ]
     },
     "execution_count": 13,
     "metadata": {},
     "output_type": "execute_result"
    }
   ],
   "source": [
    "ret.shape"
   ]
  },
  {
   "cell_type": "code",
   "execution_count": 14,
   "metadata": {},
   "outputs": [],
   "source": [
    "import talib"
   ]
  },
  {
   "cell_type": "code",
   "execution_count": 15,
   "metadata": {},
   "outputs": [],
   "source": [
    "close = np.random.random(100)"
   ]
  },
  {
   "cell_type": "code",
   "execution_count": 16,
   "metadata": {},
   "outputs": [
    {
     "data": {
      "text/plain": [
       "numpy.ndarray"
      ]
     },
     "execution_count": 16,
     "metadata": {},
     "output_type": "execute_result"
    }
   ],
   "source": [
    "type(close)"
   ]
  },
  {
   "cell_type": "code",
   "execution_count": 17,
   "metadata": {},
   "outputs": [
    {
     "data": {
      "text/plain": [
       "(100,)"
      ]
     },
     "execution_count": 17,
     "metadata": {},
     "output_type": "execute_result"
    }
   ],
   "source": [
    "close.shape"
   ]
  },
  {
   "cell_type": "code",
   "execution_count": 18,
   "metadata": {},
   "outputs": [
    {
     "data": {
      "text/plain": [
       "array([0.26977628, 0.71219452, 0.53194789, 0.45029882, 0.80277091,\n",
       "       0.30295122, 0.2044507 , 0.56530028, 0.88122182, 0.11670134,\n",
       "       0.87801146, 0.66519291, 0.03480579, 0.23901374, 0.79650628,\n",
       "       0.05373884, 0.16308653, 0.59642133, 0.4125178 , 0.41479958,\n",
       "       0.7646662 , 0.15206836, 0.94852578, 0.42131771, 0.12137574,\n",
       "       0.13799186, 0.05518051, 0.54046232, 0.82323409, 0.80839037,\n",
       "       0.26740982, 0.89942318, 0.23364174, 0.11626596, 0.95665031,\n",
       "       0.45924717, 0.68113487, 0.14344106, 0.65104602, 0.34461021,\n",
       "       0.62876293, 0.11894916, 0.84098729, 0.00117408, 0.71521158,\n",
       "       0.72363282, 0.40855593, 0.87623422, 0.00127267, 0.68321048,\n",
       "       0.68475931, 0.57498377, 0.10252121, 0.40184052, 0.49628877,\n",
       "       0.05279244, 0.89780392, 0.53344837, 0.92743923, 0.83134869,\n",
       "       0.23568491, 0.56070459, 0.24451253, 0.8518384 , 0.48411607,\n",
       "       0.85587404, 0.96976921, 0.9571173 , 0.07008975, 0.73281085,\n",
       "       0.65845053, 0.40362556, 0.47284734, 0.40320239, 0.63735707,\n",
       "       0.56024963, 0.60191142, 0.65884571, 0.83911399, 0.48817724,\n",
       "       0.01568424, 0.49887074, 0.84993124, 0.68109042, 0.10335569,\n",
       "       0.92559489, 0.80648315, 0.18270363, 0.86816402, 0.63008147,\n",
       "       0.09036302, 0.89855992, 0.91529393, 0.9629482 , 0.08312126,\n",
       "       0.68011335, 0.21909621, 0.37497613, 0.03269308, 0.50982124])"
      ]
     },
     "execution_count": 18,
     "metadata": {},
     "output_type": "execute_result"
    }
   ],
   "source": [
    "close"
   ]
  },
  {
   "cell_type": "code",
   "execution_count": 30,
   "metadata": {},
   "outputs": [],
   "source": [
    "output = talib.SMA(close)"
   ]
  },
  {
   "cell_type": "code",
   "execution_count": 31,
   "metadata": {},
   "outputs": [
    {
     "data": {
      "text/plain": [
       "array([       nan,        nan,        nan,        nan,        nan,\n",
       "              nan,        nan,        nan,        nan,        nan,\n",
       "              nan,        nan,        nan,        nan,        nan,\n",
       "              nan,        nan,        nan,        nan,        nan,\n",
       "              nan,        nan,        nan,        nan,        nan,\n",
       "              nan,        nan,        nan,        nan, 0.46216403,\n",
       "       0.46208515, 0.46832611, 0.45838257, 0.44724814, 0.45237745,\n",
       "       0.45758732, 0.47347679, 0.45941482, 0.45174229, 0.45933925,\n",
       "       0.45103097, 0.43282284, 0.45969556, 0.45176757, 0.44905775,\n",
       "       0.47138755, 0.47956986, 0.48889696, 0.47518879, 0.48413582,\n",
       "       0.48147225, 0.49556943, 0.46736928, 0.46672004, 0.47921714,\n",
       "       0.47637716, 0.50446461, 0.50423081, 0.50770432, 0.50846959,\n",
       "       0.5074121 , 0.49612148, 0.49648383, 0.52100292, 0.50525177,\n",
       "       0.51847267, 0.52809381, 0.55521636, 0.53585115, 0.54879117,\n",
       "       0.54978075, 0.55926997, 0.54699864, 0.56039958, 0.55780443,\n",
       "       0.55235832, 0.55880351, 0.55155722, 0.57948527, 0.57298416,\n",
       "       0.55068166, 0.54814455, 0.57305822, 0.58236655, 0.56926878,\n",
       "       0.5983622 , 0.59531817, 0.58362668, 0.58165084, 0.57494193,\n",
       "       0.57009787, 0.58135971, 0.60371909, 0.60742275, 0.59405626,\n",
       "       0.58819757, 0.56317514, 0.54377043, 0.54252388, 0.53509089])"
      ]
     },
     "execution_count": 31,
     "metadata": {},
     "output_type": "execute_result"
    }
   ],
   "source": [
    "output"
   ]
  },
  {
   "cell_type": "code",
   "execution_count": 32,
   "metadata": {},
   "outputs": [],
   "source": [
    "from talib import MA_Type"
   ]
  },
  {
   "cell_type": "code",
   "execution_count": 44,
   "metadata": {},
   "outputs": [],
   "source": [
    "upper, middle, lower = talib.BBANDS(close, matype=MA_Type.T3)"
   ]
  },
  {
   "cell_type": "code",
   "execution_count": 45,
   "metadata": {},
   "outputs": [
    {
     "data": {
      "image/png": "[encoded data removed]",
      "text/plain": [
       "<Figure size 432x288 with 1 Axes>"
      ]
     },
     "metadata": {
      "needs_background": "light"
     },
     "output_type": "display_data"
    }
   ],
   "source": [
    "import matplotlib.pyplot as plt\n",
    "%matplotlib inline\n",
    "plt.plot(lower)\n",
    "plt.plot(upper)\n",
    "plt.plot(middle)\n",
    "plt.show()"
   ]
  },
  {
   "cell_type": "code",
   "execution_count": 48,
   "metadata": {},
   "outputs": [],
   "source": [
    "output = talib.MOM(close,timeperiod=10)"
   ]
  },
  {
   "cell_type": "code",
   "execution_count": 49,
   "metadata": {},
   "outputs": [
    {
     "data": {
      "image/png": "[encoded data removed]",
      "text/plain": [
       "<Figure size 432x288 with 1 Axes>"
      ]
     },
     "metadata": {
      "needs_background": "light"
     },
     "output_type": "display_data"
    }
   ],
   "source": [
    "plt.plot(output)\n",
    "plt.show()"
   ]
  },
  {
   "cell_type": "code",
   "execution_count": null,
   "metadata": {},
   "outputs": [],
   "source": []
  }
 ],
 "metadata": {
  "kernelspec": {
   "display_name": "Python 3",
   "language": "python",
   "name": "python3"
  },
  "language_info": {
   "codemirror_mode": {
    "name": "ipython",
    "version": 3
   },
   "file_extension": ".py",
   "mimetype": "text/x-python",
   "name": "python",
   "nbconvert_exporter": "python",
   "pygments_lexer": "ipython3",
   "version": "3.6.7"
  }
 },
 "nbformat": 4,
 "nbformat_minor": 2
}
