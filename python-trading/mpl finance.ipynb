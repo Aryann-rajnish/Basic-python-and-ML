{
 "cells": [
  {
   "cell_type": "code",
   "execution_count": 1,
   "metadata": {},
   "outputs": [],
   "source": [
    "import matplotlib.pyplot as plt"
   ]
  },
  {
   "cell_type": "code",
   "execution_count": 2,
   "metadata": {},
   "outputs": [],
   "source": [
    "import pandas as pd"
   ]
  },
  {
   "cell_type": "code",
   "execution_count": 3,
   "metadata": {},
   "outputs": [],
   "source": [
    "from matplotlib.dates import date2num"
   ]
  },
  {
   "cell_type": "code",
   "execution_count": 5,
   "metadata": {},
   "outputs": [
    {
     "name": "stdout",
     "output_type": "stream",
     "text": [
      "Requirement already satisfied: mpl_finance in /home/aryann/anaconda3/lib/python3.6/site-packages/mpl_finance-0.10.0-py3.6.egg (0.10.0)\n",
      "Requirement already satisfied: matplotlib in /home/aryann/.local/lib/python3.6/site-packages (from mpl_finance) (2.2.2)\n",
      "Requirement already satisfied: pyparsing!=2.0.4,!=2.1.2,!=2.1.6,>=2.0.1 in /home/aryann/.local/lib/python3.6/site-packages (from matplotlib->mpl_finance) (2.3.1)\n",
      "Requirement already satisfied: pytz in /home/aryann/.local/lib/python3.6/site-packages (from matplotlib->mpl_finance) (2018.9)\n",
      "Requirement already satisfied: six>=1.10 in /home/aryann/.local/lib/python3.6/site-packages (from matplotlib->mpl_finance) (1.12.0)\n",
      "Requirement already satisfied: python-dateutil>=2.1 in /home/aryann/.local/lib/python3.6/site-packages (from matplotlib->mpl_finance) (2.8.0)\n",
      "Requirement already satisfied: kiwisolver>=1.0.1 in /home/aryann/.local/lib/python3.6/site-packages (from matplotlib->mpl_finance) (1.0.1)\n",
      "Requirement already satisfied: cycler>=0.10 in /home/aryann/.local/lib/python3.6/site-packages (from matplotlib->mpl_finance) (0.10.0)\n",
      "Requirement already satisfied: numpy>=1.7.1 in /home/aryann/anaconda3/lib/python3.6/site-packages (from matplotlib->mpl_finance) (1.16.2)\n",
      "Requirement already satisfied: setuptools in /home/aryann/.local/lib/python3.6/site-packages (from kiwisolver>=1.0.1->matplotlib->mpl_finance) (39.1.0)\n"
     ]
    }
   ],
   "source": [
    "!pip install mpl_finance"
   ]
  },
  {
   "cell_type": "code",
   "execution_count": 6,
   "metadata": {},
   "outputs": [],
   "source": [
    "import mpl_finance"
   ]
  },
  {
   "cell_type": "code",
   "execution_count": 7,
   "metadata": {},
   "outputs": [],
   "source": [
    "from mpl_finance import plot_day_summary_oclh"
   ]
  },
  {
   "cell_type": "code",
   "execution_count": null,
   "metadata": {},
   "outputs": [],
   "source": [
    "quotes = "
   ]
  }
 ],
 "metadata": {
  "kernelspec": {
   "display_name": "Python 3",
   "language": "python",
   "name": "python3"
  },
  "language_info": {
   "codemirror_mode": {
    "name": "ipython",
    "version": 3
   },
   "file_extension": ".py",
   "mimetype": "text/x-python",
   "name": "python",
   "nbconvert_exporter": "python",
   "pygments_lexer": "ipython3",
   "version": "3.6.7"
  }
 },
 "nbformat": 4,
 "nbformat_minor": 2
}
